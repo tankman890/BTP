{
  "nbformat": 4,
  "nbformat_minor": 0,
  "metadata": {
    "colab": {
      "provenance": []
    },
    "kernelspec": {
      "name": "python3",
      "display_name": "Python 3"
    },
    "language_info": {
      "name": "python"
    }
  },
  "cells": [
    {
      "cell_type": "code",
      "execution_count": null,
      "metadata": {
        "id": "CsSOfwB8WWn8"
      },
      "outputs": [],
      "source": [
        "import numpy as np\n",
        "import pandas as pd\n",
        "from matplotlib import pyplot as plt\n",
        "from sklearn.model_selection import train_test_split\n",
        "from sklearn.linear_model import LinearRegression\n",
        "from sklearn.metrics import mean_squared_error"
      ]
    },
    {
      "cell_type": "code",
      "source": [
        "\n",
        "df=pd.read_csv(\"/data_with_randomness.csv\")\n",
        "X = df.iloc[:,2:3]\n",
        "y = df.iloc[:,3:]"
      ],
      "metadata": {
        "id": "CPNnVNT2u1Of"
      },
      "execution_count": null,
      "outputs": []
    },
    {
      "cell_type": "code",
      "source": [
        "X_train,X_test,y_train,y_test = train_test_split(X,y,test_size=0.1,random_state=42)"
      ],
      "metadata": {
        "id": "1qY6MNqSl_Zt"
      },
      "execution_count": null,
      "outputs": []
    },
    {
      "cell_type": "code",
      "source": [
        "lr=LinearRegression()\n",
        "model=lr.fit(X_train.values,y_train.values)"
      ],
      "metadata": {
        "id": "CaY9-hjCvJz7"
      },
      "execution_count": null,
      "outputs": []
    },
    {
      "cell_type": "code",
      "source": [
        "y_predLR = lr.predict(X_test.values)\n",
        "mean_squared_error(y_test.values, y_predLR)\n"
      ],
      "metadata": {
        "id": "hdq8mOLcz8sm",
        "colab": {
          "base_uri": "https://localhost:8080/"
        },
        "outputId": "701a9f40-0780-46b1-9746-803f227c4930"
      },
      "execution_count": null,
      "outputs": [
        {
          "output_type": "execute_result",
          "data": {
            "text/plain": [
              "2.464366783113721"
            ]
          },
          "metadata": {},
          "execution_count": 6
        }
      ]
    },
    {
      "cell_type": "code",
      "source": [
        "print(round(lr.predict([[23]])[0][0]))"
      ],
      "metadata": {
        "colab": {
          "base_uri": "https://localhost:8080/"
        },
        "id": "fEXmMzJbA_dV",
        "outputId": "ee0693fd-4ce4-4cd9-fe48-ba65776da41f"
      },
      "execution_count": null,
      "outputs": [
        {
          "output_type": "stream",
          "name": "stdout",
          "text": [
            "15\n"
          ]
        }
      ]
    },
    {
      "cell_type": "code",
      "source": [
        "plt.scatter(X_train, y_train,color='g')\n",
        "plt.plot(X_test, y_predLR,color='k') \n",
        "plt.title('graph of x and y')\n",
        "plt.xlabel('feels like temp')\n",
        "plt.ylabel('pref temp')"
      ],
      "metadata": {
        "colab": {
          "base_uri": "https://localhost:8080/",
          "height": 313
        },
        "id": "TKPxdbc9w-m6",
        "outputId": "2b07e775-3463-46d4-856e-b5d214daed9b"
      },
      "execution_count": null,
      "outputs": [
        {
          "output_type": "execute_result",
          "data": {
            "text/plain": [
              "Text(0, 0.5, 'pref temp')"
            ]
          },
          "metadata": {},
          "execution_count": 8
        },
        {
          "output_type": "display_data",
          "data": {
            "text/plain": [
              "<Figure size 432x288 with 1 Axes>"
            ],
            "image/png": "[encoded data removed]"
          },
          "metadata": {
            "needs_background": "light"
          }
        }
      ]
    },
    {
      "cell_type": "code",
      "source": [
        "import pickle as pkl\n",
        "with open('model_pickle','wb') as f:\n",
        "  pkl.dump(model,f)\n",
        "\n"
      ],
      "metadata": {
        "id": "ykLXgVaiTog5"
      },
      "execution_count": null,
      "outputs": []
    },
    {
      "cell_type": "code",
      "source": [],
      "metadata": {
        "id": "6OthY1V-urhA"
      },
      "execution_count": null,
      "outputs": []
    }
  ]
}